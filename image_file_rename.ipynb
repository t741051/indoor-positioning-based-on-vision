{
 "cells": [
  {
   "cell_type": "code",
   "execution_count": 4,
   "id": "d1977ef9",
   "metadata": {},
   "outputs": [],
   "source": [
    "import os\n",
    "import shutil\n",
    "list_image = ['1-1', '1-2','2-1','2-2','3-1','3-2','4-1','4-2','5-1','5-2','6-1','6-2','6-3','7-1','8-1','8-2','8-3']\n",
    "# 指定資料夾路徑和新名稱的前綴字串\n",
    "folder_path = \"Dataset/train/\"\n",
    "prefix = \"EE-7-\"\n",
    "for j in list_image:\n",
    "    # 獲取資料夾內所有檔案\n",
    "    files = os.listdir(folder_path + j)\n",
    "\n",
    "    # 遍歷每個檔案，將名稱修改為新的名稱\n",
    "    for i, file_name in enumerate(files):\n",
    "        if file_name.endswith(\".jpg\") or file_name.endswith(\".png\"):\n",
    "            new_file_name = prefix + j + '-' +str(i) + os.path.splitext(file_name)[-1]\n",
    "            # 將檔案移到新的路徑\n",
    "            shutil.move(os.path.join(folder_path + j, file_name), os.path.join(folder_path + j, new_file_name))"
   ]
  },
  {
   "cell_type": "code",
   "execution_count": 2,
   "id": "7516e64a",
   "metadata": {},
   "outputs": [],
   "source": [
    "import os\n",
    "import shutil\n",
    "list_image = ['1-1', '1-2','2-1','2-2','3-1','3-2','4-1','4-2','5-1','5-2','6-1','6-2','6-3','7-1','8-1','8-2','8-3']\n",
    "# 指定資料夾路徑和新名稱的前綴字串\n",
    "folder_path = \"Dataset/test/\"\n",
    "prefix = \"EE-7-\"\n",
    "for j in list_image:\n",
    "    # 獲取資料夾內所有檔案\n",
    "    files = os.listdir(folder_path + j)\n",
    "\n",
    "    # 遍歷每個檔案，將名稱修改為新的名稱\n",
    "    for i, file_name in enumerate(files):\n",
    "        if file_name.endswith(\".jpg\") or file_name.endswith(\".png\"):\n",
    "            new_file_name = prefix + j + '-' +str(i) + os.path.splitext(file_name)[-1]\n",
    "            # 將檔案移到新的路徑\n",
    "            shutil.move(os.path.join(folder_path + j, file_name), os.path.join(folder_path + j, new_file_name))"
   ]
  },
  {
   "cell_type": "code",
   "execution_count": 5,
   "id": "d4913a7b",
   "metadata": {},
   "outputs": [],
   "source": [
    "import os\n",
    "import shutil\n",
    "list_image = ['1-1', '1-2','2-1','2-2','3-1','3-2','4-1','4-2','5-1','5-2','6-1','6-2','6-3','7-1','8-1','8-2','8-3']\n",
    "# 指定資料夾路徑和新名稱的前綴字串\n",
    "folder_path = \"Dataset/val/\"\n",
    "prefix = \"EE-7-\"\n",
    "for j in list_image:\n",
    "    # 獲取資料夾內所有檔案\n",
    "    files = os.listdir(folder_path + j)\n",
    "\n",
    "    # 遍歷每個檔案，將名稱修改為新的名稱\n",
    "    for i, file_name in enumerate(files):\n",
    "        if file_name.endswith(\".jpg\") or file_name.endswith(\".png\"):\n",
    "            new_file_name = prefix + j + '-' +str(i) + os.path.splitext(file_name)[-1]\n",
    "            # 將檔案移到新的路徑\n",
    "            shutil.move(os.path.join(folder_path + j, file_name), os.path.join(folder_path + j, new_file_name))"
   ]
  },
  {
   "cell_type": "code",
   "execution_count": null,
   "id": "a769b5a4",
   "metadata": {},
   "outputs": [],
   "source": []
  }
 ],
 "metadata": {
  "kernelspec": {
   "display_name": "Python 3 (ipykernel)",
   "language": "python",
   "name": "python3"
  },
  "language_info": {
   "codemirror_mode": {
    "name": "ipython",
    "version": 3
   },
   "file_extension": ".py",
   "mimetype": "text/x-python",
   "name": "python",
   "nbconvert_exporter": "python",
   "pygments_lexer": "ipython3",
   "version": "3.10.10"
  }
 },
 "nbformat": 4,
 "nbformat_minor": 5
}
